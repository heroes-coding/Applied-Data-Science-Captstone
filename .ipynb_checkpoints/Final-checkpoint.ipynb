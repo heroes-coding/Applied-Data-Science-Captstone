{
 "cells": [
  {
   "cell_type": "markdown",
   "metadata": {},
   "source": [
    "<h1>Applied Data Science Capstone Project</h1>\n",
    "<h3>Battle of the Neighborhoods: Health and Location</h3>\n",
    "<em>By Jeremy Schutte</em>"
   ]
  },
  {
   "cell_type": "markdown",
   "metadata": {},
   "source": [
    "## Table of Contents\n",
    "- [Introduction / Business Problem](#introduction)\n",
    "- [Data](#data)\n",
    "- [Methodology](#methodology)\n",
    "- [Results](#results)\n",
    "- [Discussion](#discussion)\n",
    "- [Conclusion](#conclusion)"
   ]
  },
  {
   "cell_type": "markdown",
   "metadata": {},
   "source": [
    "<a id='introduction'></a>\n",
    "## Introduction / Business Problem\n",
    "\n",
    "First off, I thought it would be neat to combine the report and notebook together into one document, and why not?  Isn't that one of the points of Data Science, to provide more timely, interesting, and interactive means of looking at the data?  Isn't that more appetizing?\n",
    "\n",
    "Now, on to the main course.  Wouldn't it be interesting to show the correlation between certain types of places and certain health indicators?  Proving causation one way or another is well beyond the scope of this project (it's more of a thesis or serious reject paper), but just showing that certain establishments are linked to certain health problems (such as clustering of bars with problems of alchoholism and binge drinking, and obesity with fast food restaurants) could be interesting to both public health officials trying to alleviate the problems with the iron hand of government or unscrupulous business people trying to profit from the misery of others.\n",
    "\n",
    "And that, in a nutshell (sorry, I guess this is a main course for squirrels, only), is what this project will try to show."
   ]
  },
  {
   "cell_type": "markdown",
   "metadata": {},
   "source": [
    "<a id='data'></a>\n",
    "## Data\n",
    "\n",
    "To do this kind of project, you need two data sources:  The first is health indicators.  Luckily, the CDC was kind enough to publish a large local data health indicators dataset which I will be using for this project.  <a href=\"https://chronicdata.cdc.gov/500-Cities/500-Cities-Local-Data-for-Better-Health-2017-relea/6vp6-wxuq\">You can find it through here, if you want.</a>\n",
    "\n",
    "First, let's get and look at the data.  I've already downloaded it, so just need to load it:"
   ]
  },
  {
   "cell_type": "code",
   "execution_count": 1,
   "metadata": {},
   "outputs": [],
   "source": [
    "import pandas as pd\n",
    "import numpy as np\n",
    "\n",
    "# hdf = health data frame\n",
    "hdf = pd.read_csv(\"500_Cities__Local_Data_for_Better_Health__2017_release.csv\")"
   ]
  },
  {
   "cell_type": "code",
   "execution_count": 2,
   "metadata": {},
   "outputs": [
    {
     "name": "stdout",
     "output_type": "stream",
     "text": [
      "This data set has 19,442,472 observations of data before cleaning and filtering\n",
      "{'TractFIPS', 'MeasureId', 'PopulationCount', 'CityFIPS', 'Data_Value', 'GeoLocation', 'Category', 'Low_Confidence_Limit', 'Data_Value_Footnote_Symbol', 'Year', 'StateDesc', 'GeographicLevel', 'CategoryID', 'DataSource', 'High_Confidence_Limit', 'Short_Question_Text', 'CityName', 'Data_Value_Footnote', 'Data_Value_Unit', 'DataValueTypeID', 'Data_Value_Type', 'StateAbbr', 'UniqueID', 'Measure'}\n"
     ]
    },
    {
     "data": {
      "text/html": [
       "<div>\n",
       "<style scoped>\n",
       "    .dataframe tbody tr th:only-of-type {\n",
       "        vertical-align: middle;\n",
       "    }\n",
       "\n",
       "    .dataframe tbody tr th {\n",
       "        vertical-align: top;\n",
       "    }\n",
       "\n",
       "    .dataframe thead th {\n",
       "        text-align: right;\n",
       "    }\n",
       "</style>\n",
       "<table border=\"1\" class=\"dataframe\">\n",
       "  <thead>\n",
       "    <tr style=\"text-align: right;\">\n",
       "      <th></th>\n",
       "      <th>Year</th>\n",
       "      <th>StateAbbr</th>\n",
       "      <th>StateDesc</th>\n",
       "      <th>CityName</th>\n",
       "      <th>GeographicLevel</th>\n",
       "      <th>DataSource</th>\n",
       "      <th>Category</th>\n",
       "      <th>UniqueID</th>\n",
       "      <th>Measure</th>\n",
       "      <th>Data_Value_Unit</th>\n",
       "      <th>DataValueTypeID</th>\n",
       "      <th>Data_Value_Type</th>\n",
       "      <th>Data_Value</th>\n",
       "      <th>Low_Confidence_Limit</th>\n",
       "      <th>High_Confidence_Limit</th>\n",
       "      <th>Data_Value_Footnote_Symbol</th>\n",
       "      <th>Data_Value_Footnote</th>\n",
       "      <th>PopulationCount</th>\n",
       "      <th>GeoLocation</th>\n",
       "      <th>CategoryID</th>\n",
       "      <th>MeasureId</th>\n",
       "      <th>CityFIPS</th>\n",
       "      <th>TractFIPS</th>\n",
       "      <th>Short_Question_Text</th>\n",
       "    </tr>\n",
       "  </thead>\n",
       "  <tbody>\n",
       "    <tr>\n",
       "      <th>0</th>\n",
       "      <td>2015</td>\n",
       "      <td>US</td>\n",
       "      <td>United States</td>\n",
       "      <td>NaN</td>\n",
       "      <td>US</td>\n",
       "      <td>BRFSS</td>\n",
       "      <td>Prevention</td>\n",
       "      <td>59</td>\n",
       "      <td>Current lack of health insurance among adults aged 18–64 Years</td>\n",
       "      <td>%</td>\n",
       "      <td>AgeAdjPrv</td>\n",
       "      <td>Age-adjusted prevalence</td>\n",
       "      <td>15.4</td>\n",
       "      <td>15.1</td>\n",
       "      <td>15.7</td>\n",
       "      <td>NaN</td>\n",
       "      <td>NaN</td>\n",
       "      <td>308745538.0</td>\n",
       "      <td>NaN</td>\n",
       "      <td>PREVENT</td>\n",
       "      <td>ACCESS2</td>\n",
       "      <td>NaN</td>\n",
       "      <td>NaN</td>\n",
       "      <td>Health Insurance</td>\n",
       "    </tr>\n",
       "  </tbody>\n",
       "</table>\n",
       "</div>"
      ],
      "text/plain": [
       "   Year StateAbbr      StateDesc CityName GeographicLevel DataSource    Category UniqueID                                                         Measure Data_Value_Unit DataValueTypeID          Data_Value_Type  Data_Value  Low_Confidence_Limit  High_Confidence_Limit Data_Value_Footnote_Symbol Data_Value_Footnote  PopulationCount GeoLocation CategoryID MeasureId  CityFIPS  TractFIPS Short_Question_Text\n",
       "0  2015  US        United States  NaN      US              BRFSS      Prevention  59       Current lack of health insurance among adults aged 18–64 Years  %               AgeAdjPrv       Age-adjusted prevalence  15.4        15.1                  15.7                   NaN                        NaN                 308745538.0      NaN         PREVENT    ACCESS2  NaN       NaN         Health Insurance  "
      ]
     },
     "execution_count": 2,
     "metadata": {},
     "output_type": "execute_result"
    }
   ],
   "source": [
    "print(\"This data set has {:,} observations of data before cleaning and filtering\".format(hdf.size))\n",
    "print(set(hdf.columns))\n",
    "pd.set_option('display.max_columns', None)  \n",
    "pd.set_option('display.expand_frame_repr', False)\n",
    "pd.set_option('max_colwidth', -1)\n",
    "hdf.head(1)\n"
   ]
  },
  {
   "cell_type": "markdown",
   "metadata": {},
   "source": [
    "Let's get rid of some superfulous columns first and filter out some NaNs:"
   ]
  },
  {
   "cell_type": "code",
   "execution_count": 3,
   "metadata": {},
   "outputs": [
    {
     "data": {
      "text/plain": [
       "10981544"
      ]
     },
     "execution_count": 3,
     "metadata": {},
     "output_type": "execute_result"
    }
   ],
   "source": [
    "hdf = hdf[['Year','StateAbbr', 'CityName', 'GeographicLevel','DataSource','Category', 'Measure','Data_Value_Unit','Data_Value_Type', 'Data_Value', 'Low_Confidence_Limit','High_Confidence_Limit','PopulationCount','GeoLocation']]\n",
    "hdf = hdf[hdf.StateAbbr.notnull()]\n",
    "hdf = hdf[hdf.GeoLocation.notnull()]\n",
    "hdf = hdf[hdf.StateAbbr != 'US']\n",
    "hdf = hdf[hdf.PopulationCount > 100] # Filtering out tiny or rare problems\n",
    "hdf.size\n"
   ]
  },
  {
   "cell_type": "code",
   "execution_count": 4,
   "metadata": {},
   "outputs": [
    {
     "name": "stdout",
     "output_type": "stream",
     "text": [
      "City population mean is: 206041.616, and census tract population mean is: 3811.3100756746467\n"
     ]
    }
   ],
   "source": [
    "cityMeanPop = hdf[hdf.GeographicLevel == 'City'].PopulationCount.mean()\n",
    "censusTractMeanPop = hdf[hdf.GeographicLevel == 'Census Tract'].PopulationCount.mean()\n",
    "print(\"City population mean is: {}, and census tract population mean is: {}\".format(cityMeanPop,censusTractMeanPop ))"
   ]
  },
  {
   "cell_type": "code",
   "execution_count": 5,
   "metadata": {},
   "outputs": [
    {
     "data": {
      "text/plain": [
       "{'New York'}"
      ]
     },
     "execution_count": 5,
     "metadata": {},
     "output_type": "execute_result"
    }
   ],
   "source": [
    "set(hdf[(hdf.GeographicLevel == 'City') & (hdf.PopulationCount > 4000000)].CityName)"
   ]
  },
  {
   "cell_type": "code",
   "execution_count": 6,
   "metadata": {},
   "outputs": [
    {
     "data": {
      "text/plain": [
       "827414"
      ]
     },
     "execution_count": 6,
     "metadata": {},
     "output_type": "execute_result"
    }
   ],
   "source": [
    "hdf[(hdf.CityName == 'New York') & (hdf.GeographicLevel != 'City')].size"
   ]
  },
  {
   "cell_type": "markdown",
   "metadata": {},
   "source": [
    "To simplify the analysis, we are going to drop all cities except New York, and also drop city wide data:"
   ]
  },
  {
   "cell_type": "code",
   "execution_count": 7,
   "metadata": {},
   "outputs": [],
   "source": [
    "hdf = hdf[(hdf.CityName == 'New York') & (hdf.GeographicLevel != 'City')]"
   ]
  },
  {
   "cell_type": "code",
   "execution_count": 8,
   "metadata": {},
   "outputs": [
    {
     "name": "stdout",
     "output_type": "stream",
     "text": [
      "How many types of data values are there?  Just % based: {'%'}\n"
     ]
    }
   ],
   "source": [
    "print(\"How many types of data values are there?  Just % based: {}\".format(set(hdf['Data_Value_Unit'])))"
   ]
  },
  {
   "cell_type": "code",
   "execution_count": 9,
   "metadata": {},
   "outputs": [
    {
     "name": "stdout",
     "output_type": "stream",
     "text": [
      "There are: 28 health indicators.  Let's choose the easiest.  Here are all of them as a dataset:\n"
     ]
    },
    {
     "data": {
      "text/html": [
       "<div>\n",
       "<style scoped>\n",
       "    .dataframe tbody tr th:only-of-type {\n",
       "        vertical-align: middle;\n",
       "    }\n",
       "\n",
       "    .dataframe tbody tr th {\n",
       "        vertical-align: top;\n",
       "    }\n",
       "\n",
       "    .dataframe thead th {\n",
       "        text-align: right;\n",
       "    }\n",
       "</style>\n",
       "<table border=\"1\" class=\"dataframe\">\n",
       "  <thead>\n",
       "    <tr style=\"text-align: right;\">\n",
       "      <th></th>\n",
       "      <th>affected</th>\n",
       "    </tr>\n",
       "    <tr>\n",
       "      <th>Measure</th>\n",
       "      <th></th>\n",
       "    </tr>\n",
       "  </thead>\n",
       "  <tbody>\n",
       "    <tr>\n",
       "      <th>Papanicolaou smear use among adult women aged 21–65 Years</th>\n",
       "      <td>6,523,272</td>\n",
       "    </tr>\n",
       "    <tr>\n",
       "      <th>Cholesterol screening among adults aged &gt;=18 Years</th>\n",
       "      <td>6,131,492</td>\n",
       "    </tr>\n",
       "    <tr>\n",
       "      <th>Mammography use among women aged 50–74 Years</th>\n",
       "      <td>6,068,531</td>\n",
       "    </tr>\n",
       "    <tr>\n",
       "      <th>Taking medicine for high blood pressure control among adults aged &gt;=18 Years with high blood pressure</th>\n",
       "      <td>5,961,371</td>\n",
       "    </tr>\n",
       "    <tr>\n",
       "      <th>Visits to doctor for routine checkup within the past Year among adults aged &gt;=18 Years</th>\n",
       "      <td>5,884,990</td>\n",
       "    </tr>\n",
       "    <tr>\n",
       "      <th>Visits to dentist or dental clinic among adults aged &gt;=18 Years</th>\n",
       "      <td>4,938,664</td>\n",
       "    </tr>\n",
       "    <tr>\n",
       "      <th>Fecal occult blood test, sigmoidoscopy, or colonoscopy among adults aged 50–75 Years</th>\n",
       "      <td>4,915,002</td>\n",
       "    </tr>\n",
       "    <tr>\n",
       "      <th>Sleeping less than 7 hours among adults aged &gt;=18 Years</th>\n",
       "      <td>3,373,203</td>\n",
       "    </tr>\n",
       "    <tr>\n",
       "      <th>High cholesterol among adults aged &gt;=18 Years who have been screened in the past 5 Years</th>\n",
       "      <td>2,826,012</td>\n",
       "    </tr>\n",
       "    <tr>\n",
       "      <th>No leisure-time physical activity among adults aged &gt;=18 Years</th>\n",
       "      <td>2,536,814</td>\n",
       "    </tr>\n",
       "    <tr>\n",
       "      <th>High blood pressure among adults aged &gt;=18 Years</th>\n",
       "      <td>2,341,791</td>\n",
       "    </tr>\n",
       "    <tr>\n",
       "      <th>Older adult men aged &gt;=65 Years who are up to date on a core set of clinical preventive services: Flu shot past Year, PPV shot ever, Colorectal cancer screening</th>\n",
       "      <td>2,193,182</td>\n",
       "    </tr>\n",
       "    <tr>\n",
       "      <th>Obesity among adults aged &gt;=18 Years</th>\n",
       "      <td>2,057,019</td>\n",
       "    </tr>\n",
       "    <tr>\n",
       "      <th>Older adult women aged &gt;=65 Years who are up to date on a core set of clinical preventive services: Flu shot past Year, PPV shot ever, Colorectal cancer screening, and Mammogram past 2 Years</th>\n",
       "      <td>2,035,987</td>\n",
       "    </tr>\n",
       "    <tr>\n",
       "      <th>Arthritis among adults aged &gt;=18 Years</th>\n",
       "      <td>1,679,438</td>\n",
       "    </tr>\n",
       "    <tr>\n",
       "      <th>All teeth lost among adults aged &gt;=65 Years</th>\n",
       "      <td>1,386,545</td>\n",
       "    </tr>\n",
       "    <tr>\n",
       "      <th>Current smoking among adults aged &gt;=18 Years</th>\n",
       "      <td>1,363,844</td>\n",
       "    </tr>\n",
       "    <tr>\n",
       "      <th>Binge drinking among adults aged &gt;=18 Years</th>\n",
       "      <td>1,361,733</td>\n",
       "    </tr>\n",
       "    <tr>\n",
       "      <th>Current lack of health insurance among adults aged 18–64 Years</th>\n",
       "      <td>1,305,748</td>\n",
       "    </tr>\n",
       "    <tr>\n",
       "      <th>Physical health not good for &gt;=14 days among adults aged &gt;=18 Years</th>\n",
       "      <td>1,088,878</td>\n",
       "    </tr>\n",
       "    <tr>\n",
       "      <th>Mental health not good for &gt;=14 days among adults aged &gt;=18 Years</th>\n",
       "      <td>1,066,028</td>\n",
       "    </tr>\n",
       "    <tr>\n",
       "      <th>Diagnosed diabetes among adults aged &gt;=18 Years</th>\n",
       "      <td>891,878</td>\n",
       "    </tr>\n",
       "    <tr>\n",
       "      <th>Current asthma among adults aged &gt;=18 Years</th>\n",
       "      <td>824,115</td>\n",
       "    </tr>\n",
       "    <tr>\n",
       "      <th>Chronic obstructive pulmonary disease among adults aged &gt;=18 Years</th>\n",
       "      <td>466,558</td>\n",
       "    </tr>\n",
       "    <tr>\n",
       "      <th>Coronary heart disease among adults aged &gt;=18 Years</th>\n",
       "      <td>435,367</td>\n",
       "    </tr>\n",
       "    <tr>\n",
       "      <th>Cancer (excluding skin cancer) among adults aged &gt;=18 Years</th>\n",
       "      <td>430,962</td>\n",
       "    </tr>\n",
       "    <tr>\n",
       "      <th>Stroke among adults aged &gt;=18 Years</th>\n",
       "      <td>252,210</td>\n",
       "    </tr>\n",
       "    <tr>\n",
       "      <th>Chronic kidney disease among adults aged &gt;=18 Years</th>\n",
       "      <td>222,837</td>\n",
       "    </tr>\n",
       "  </tbody>\n",
       "</table>\n",
       "</div>"
      ],
      "text/plain": [
       "                                                                                                                                                                                                affected\n",
       "Measure                                                                                                                                                                                                 \n",
       "Papanicolaou smear use among adult women aged 21–65 Years                                                                                                                                      6,523,272\n",
       "Cholesterol screening among adults aged >=18 Years                                                                                                                                             6,131,492\n",
       "Mammography use among women aged 50–74 Years                                                                                                                                                   6,068,531\n",
       "Taking medicine for high blood pressure control among adults aged >=18 Years with high blood pressure                                                                                          5,961,371\n",
       "Visits to doctor for routine checkup within the past Year among adults aged >=18 Years                                                                                                         5,884,990\n",
       "Visits to dentist or dental clinic among adults aged >=18 Years                                                                                                                                4,938,664\n",
       "Fecal occult blood test, sigmoidoscopy, or colonoscopy among adults aged 50–75 Years                                                                                                           4,915,002\n",
       "Sleeping less than 7 hours among adults aged >=18 Years                                                                                                                                        3,373,203\n",
       "High cholesterol among adults aged >=18 Years who have been screened in the past 5 Years                                                                                                       2,826,012\n",
       "No leisure-time physical activity among adults aged >=18 Years                                                                                                                                 2,536,814\n",
       "High blood pressure among adults aged >=18 Years                                                                                                                                               2,341,791\n",
       "Older adult men aged >=65 Years who are up to date on a core set of clinical preventive services: Flu shot past Year, PPV shot ever, Colorectal cancer screening                               2,193,182\n",
       "Obesity among adults aged >=18 Years                                                                                                                                                           2,057,019\n",
       "Older adult women aged >=65 Years who are up to date on a core set of clinical preventive services: Flu shot past Year, PPV shot ever, Colorectal cancer screening, and Mammogram past 2 Years 2,035,987\n",
       "Arthritis among adults aged >=18 Years                                                                                                                                                         1,679,438\n",
       "All teeth lost among adults aged >=65 Years                                                                                                                                                    1,386,545\n",
       "Current smoking among adults aged >=18 Years                                                                                                                                                   1,363,844\n",
       "Binge drinking among adults aged >=18 Years                                                                                                                                                    1,361,733\n",
       "Current lack of health insurance among adults aged 18–64 Years                                                                                                                                 1,305,748\n",
       "Physical health not good for >=14 days among adults aged >=18 Years                                                                                                                            1,088,878\n",
       "Mental health not good for >=14 days among adults aged >=18 Years                                                                                                                              1,066,028\n",
       "Diagnosed diabetes among adults aged >=18 Years                                                                                                                                                891,878  \n",
       "Current asthma among adults aged >=18 Years                                                                                                                                                    824,115  \n",
       "Chronic obstructive pulmonary disease among adults aged >=18 Years                                                                                                                             466,558  \n",
       "Coronary heart disease among adults aged >=18 Years                                                                                                                                            435,367  \n",
       "Cancer (excluding skin cancer) among adults aged >=18 Years                                                                                                                                    430,962  \n",
       "Stroke among adults aged >=18 Years                                                                                                                                                            252,210  \n",
       "Chronic kidney disease among adults aged >=18 Years                                                                                                                                            222,837  "
      ]
     },
     "execution_count": 9,
     "metadata": {},
     "output_type": "execute_result"
    }
   ],
   "source": [
    "indicators = set(hdf.Measure)\n",
    "pd.options.display.float_format = '{:,.0f}'.format\n",
    "print(\"There are: {} health indicators.  Let's choose the easiest.  Here are all of them as a dataset:\".format(len(indicators)))\n",
    "hdf['affected'] = round(hdf['Data_Value']*hdf['PopulationCount']/100)\n",
    "health_problems = hdf[['Measure','affected']].groupby('Measure').sum()\n",
    "health_problems.sort_values(by='affected', ascending=False,inplace=True)\n",
    "health_problems"
   ]
  },
  {
   "cell_type": "markdown",
   "metadata": {},
   "source": [
    "So it looks like the biggest problems are:\n",
    "* Sleeping less than 7 hours\n",
    "* High cholestoral / blood pressure / obesity\n",
    "* No leisure time activity\n",
    "* Arthritis\n",
    "* Smoking\n",
    "* Binge drinking\n",
    "\n",
    "Among these, I would say that obesity is the easiest to measure versus different types of venues (restaurants, especially fast food restaurants).  Binge drinking, no leisure time, and lack of sleep (especially for the city that never sleeps) could also make interesting areas of study, but we are going to stick to the easiest for this project.\n",
    "\n",
    "So, let's take out everything else:"
   ]
  },
  {
   "cell_type": "code",
   "execution_count": 10,
   "metadata": {},
   "outputs": [
    {
     "data": {
      "text/plain": [
       "31665"
      ]
     },
     "execution_count": 10,
     "metadata": {},
     "output_type": "execute_result"
    }
   ],
   "source": [
    "hdf = hdf[hdf.Measure.isin(['Obesity among adults aged >=18 Years'])]\n",
    "hdf.size"
   ]
  },
  {
   "cell_type": "markdown",
   "metadata": {},
   "source": [
    "Next, let's filter more columns out!  Luckily, the year is the same for all observations, so we don't have to worry about trends or anything like that."
   ]
  },
  {
   "cell_type": "code",
   "execution_count": 64,
   "metadata": {},
   "outputs": [
    {
     "name": "stdout",
     "output_type": "stream",
     "text": [
      "Years: {2015}\n"
     ]
    },
    {
     "name": "stderr",
     "output_type": "stream",
     "text": [
      "c:\\users\\jeremy\\miniconda\\lib\\site-packages\\pandas\\core\\indexing.py:357: SettingWithCopyWarning: \n",
      "A value is trying to be set on a copy of a slice from a DataFrame.\n",
      "Try using .loc[row_indexer,col_indexer] = value instead\n",
      "\n",
      "See the caveats in the documentation: http://pandas.pydata.org/pandas-docs/stable/indexing.html#indexing-view-versus-copy\n",
      "  self.obj[key] = _infer_fill_value(value)\n",
      "c:\\users\\jeremy\\miniconda\\lib\\site-packages\\pandas\\core\\indexing.py:621: SettingWithCopyWarning: \n",
      "A value is trying to be set on a copy of a slice from a DataFrame.\n",
      "Try using .loc[row_indexer,col_indexer] = value instead\n",
      "\n",
      "See the caveats in the documentation: http://pandas.pydata.org/pandas-docs/stable/indexing.html#indexing-view-versus-copy\n",
      "  self.obj[item_labels[indexer[info_axis]]] = value\n"
     ]
    },
    {
     "data": {
      "text/html": [
       "<div>\n",
       "<style scoped>\n",
       "    .dataframe tbody tr th:only-of-type {\n",
       "        vertical-align: middle;\n",
       "    }\n",
       "\n",
       "    .dataframe tbody tr th {\n",
       "        vertical-align: top;\n",
       "    }\n",
       "\n",
       "    .dataframe thead th {\n",
       "        text-align: right;\n",
       "    }\n",
       "</style>\n",
       "<table border=\"1\" class=\"dataframe\">\n",
       "  <thead>\n",
       "    <tr style=\"text-align: right;\">\n",
       "      <th></th>\n",
       "      <th>Percent</th>\n",
       "      <th>Population</th>\n",
       "      <th>Affected</th>\n",
       "      <th>County</th>\n",
       "      <th>BlockCode</th>\n",
       "      <th>Pop</th>\n",
       "      <th>Lat</th>\n",
       "      <th>Long</th>\n",
       "    </tr>\n",
       "  </thead>\n",
       "  <tbody>\n",
       "    <tr>\n",
       "      <th>498769</th>\n",
       "      <td>37.80000</td>\n",
       "      <td>5,810.00000</td>\n",
       "      <td>2,196.00000</td>\n",
       "      <td>nan</td>\n",
       "      <td>nan</td>\n",
       "      <td>nan</td>\n",
       "      <td>nan</td>\n",
       "      <td>nan</td>\n",
       "    </tr>\n",
       "    <tr>\n",
       "      <th>498790</th>\n",
       "      <td>37.00000</td>\n",
       "      <td>2,031.00000</td>\n",
       "      <td>751.00000</td>\n",
       "      <td>nan</td>\n",
       "      <td>nan</td>\n",
       "      <td>nan</td>\n",
       "      <td>nan</td>\n",
       "      <td>nan</td>\n",
       "    </tr>\n",
       "    <tr>\n",
       "      <th>499084</th>\n",
       "      <td>38.30000</td>\n",
       "      <td>4,669.00000</td>\n",
       "      <td>1,788.00000</td>\n",
       "      <td>nan</td>\n",
       "      <td>nan</td>\n",
       "      <td>nan</td>\n",
       "      <td>nan</td>\n",
       "      <td>nan</td>\n",
       "    </tr>\n",
       "    <tr>\n",
       "      <th>499105</th>\n",
       "      <td>34.10000</td>\n",
       "      <td>5,853.00000</td>\n",
       "      <td>1,996.00000</td>\n",
       "      <td>nan</td>\n",
       "      <td>nan</td>\n",
       "      <td>nan</td>\n",
       "      <td>nan</td>\n",
       "      <td>nan</td>\n",
       "    </tr>\n",
       "    <tr>\n",
       "      <th>499252</th>\n",
       "      <td>35.20000</td>\n",
       "      <td>2,711.00000</td>\n",
       "      <td>954.00000</td>\n",
       "      <td>nan</td>\n",
       "      <td>nan</td>\n",
       "      <td>nan</td>\n",
       "      <td>nan</td>\n",
       "      <td>nan</td>\n",
       "    </tr>\n",
       "  </tbody>\n",
       "</table>\n",
       "</div>"
      ],
      "text/plain": [
       "        Percent  Population    Affected  County  BlockCode  Pop  Lat  Long\n",
       "498769 37.80000 5,810.00000 2,196.00000 nan     nan        nan  nan  nan  \n",
       "498790 37.00000 2,031.00000 751.00000   nan     nan        nan  nan  nan  \n",
       "499084 38.30000 4,669.00000 1,788.00000 nan     nan        nan  nan  nan  \n",
       "499105 34.10000 5,853.00000 1,996.00000 nan     nan        nan  nan  nan  \n",
       "499252 35.20000 2,711.00000 954.00000   nan     nan        nan  nan  nan  "
      ]
     },
     "execution_count": 64,
     "metadata": {},
     "output_type": "execute_result"
    }
   ],
   "source": [
    "print(\"Years: {}\".format(set(hdf.Year)))\n",
    "# change name to odf, 'obesity' to keep hdf just in case\n",
    "odf = hdf[['Data_Value', 'PopulationCount', 'affected']]\n",
    "odf.columns = [\"Percent\", \"Population\", \"Affected\"]\n",
    "odf.loc[:,'County'] = np.NaN\n",
    "odf.loc[:,'BlockCode'] = np.NaN\n",
    "odf.loc[:,'Pop'] = np.NaN\n",
    "odf.loc[:,'Lat'] = np.NaN\n",
    "odf.loc[:,'Long'] = np.NaN\n",
    "\n",
    "odf.head()"
   ]
  },
  {
   "cell_type": "code",
   "execution_count": 65,
   "metadata": {},
   "outputs": [
    {
     "name": "stderr",
     "output_type": "stream",
     "text": [
      "  0%|                                                                                                                                        | 0/2111 [00:00<?, ?it/s]c:\\users\\jeremy\\miniconda\\lib\\site-packages\\pandas\\core\\indexing.py:194: SettingWithCopyWarning: \n",
      "A value is trying to be set on a copy of a slice from a DataFrame\n",
      "\n",
      "See the caveats in the documentation: http://pandas.pydata.org/pandas-docs/stable/indexing.html#indexing-view-versus-copy\n",
      "  self._setitem_with_indexer(indexer, value)\n",
      "c:\\users\\jeremy\\miniconda\\lib\\site-packages\\ipykernel_launcher.py:5: SettingWithCopyWarning: \n",
      "A value is trying to be set on a copy of a slice from a DataFrame\n",
      "\n",
      "See the caveats in the documentation: http://pandas.pydata.org/pandas-docs/stable/indexing.html#indexing-view-versus-copy\n",
      "  \"\"\"\n",
      "c:\\users\\jeremy\\miniconda\\lib\\site-packages\\ipykernel_launcher.py:6: SettingWithCopyWarning: \n",
      "A value is trying to be set on a copy of a slice from a DataFrame\n",
      "\n",
      "See the caveats in the documentation: http://pandas.pydata.org/pandas-docs/stable/indexing.html#indexing-view-versus-copy\n",
      "  \n",
      "100%|█████████████████████████████████████████████████████████████████████████████████████████████████████████████████████████████| 2111/2111 [03:28<00:00, 10.13it/s]\n"
     ]
    }
   ],
   "source": [
    "import tqdm\n",
    "i = 0\n",
    "for ls in tqdm.tqdm(hdf.GeoLocation):\n",
    "    lat, long = [float(l) for l in ls[1:-1].split(\", \")]\n",
    "    odf.iloc[i,6] = lat\n",
    "    odf.iloc[i,7] = long\n",
    "    i += 1\n",
    "    "
   ]
  },
  {
   "cell_type": "code",
   "execution_count": 75,
   "metadata": {},
   "outputs": [
    {
     "data": {
      "text/html": [
       "<div>\n",
       "<style scoped>\n",
       "    .dataframe tbody tr th:only-of-type {\n",
       "        vertical-align: middle;\n",
       "    }\n",
       "\n",
       "    .dataframe tbody tr th {\n",
       "        vertical-align: top;\n",
       "    }\n",
       "\n",
       "    .dataframe thead th {\n",
       "        text-align: right;\n",
       "    }\n",
       "</style>\n",
       "<table border=\"1\" class=\"dataframe\">\n",
       "  <thead>\n",
       "    <tr style=\"text-align: right;\">\n",
       "      <th></th>\n",
       "      <th>Percent</th>\n",
       "      <th>Population</th>\n",
       "      <th>Affected</th>\n",
       "      <th>County</th>\n",
       "      <th>BlockCode</th>\n",
       "      <th>Pop</th>\n",
       "      <th>Lat</th>\n",
       "      <th>Long</th>\n",
       "      <th>sw</th>\n",
       "      <th>ne</th>\n",
       "    </tr>\n",
       "  </thead>\n",
       "  <tbody>\n",
       "    <tr>\n",
       "      <th>0</th>\n",
       "      <td>37.80000</td>\n",
       "      <td>5,810.00000</td>\n",
       "      <td>2,196.00000</td>\n",
       "      <td>Bronx</td>\n",
       "      <td>360050051002009</td>\n",
       "      <td>12.00000</td>\n",
       "      <td>40.81331</td>\n",
       "      <td>-73.92738</td>\n",
       "      <td>nan</td>\n",
       "      <td>nan</td>\n",
       "    </tr>\n",
       "    <tr>\n",
       "      <th>1</th>\n",
       "      <td>37.00000</td>\n",
       "      <td>2,031.00000</td>\n",
       "      <td>751.00000</td>\n",
       "      <td>NaN</td>\n",
       "      <td>NaN</td>\n",
       "      <td>nan</td>\n",
       "      <td>40.82564</td>\n",
       "      <td>-73.88244</td>\n",
       "      <td>nan</td>\n",
       "      <td>nan</td>\n",
       "    </tr>\n",
       "    <tr>\n",
       "      <th>2</th>\n",
       "      <td>38.30000</td>\n",
       "      <td>4,669.00000</td>\n",
       "      <td>1,788.00000</td>\n",
       "      <td>NaN</td>\n",
       "      <td>NaN</td>\n",
       "      <td>nan</td>\n",
       "      <td>40.85221</td>\n",
       "      <td>-73.92178</td>\n",
       "      <td>nan</td>\n",
       "      <td>nan</td>\n",
       "    </tr>\n",
       "    <tr>\n",
       "      <th>3</th>\n",
       "      <td>34.10000</td>\n",
       "      <td>5,853.00000</td>\n",
       "      <td>1,996.00000</td>\n",
       "      <td>NaN</td>\n",
       "      <td>NaN</td>\n",
       "      <td>nan</td>\n",
       "      <td>40.82989</td>\n",
       "      <td>-73.87978</td>\n",
       "      <td>nan</td>\n",
       "      <td>nan</td>\n",
       "    </tr>\n",
       "    <tr>\n",
       "      <th>4</th>\n",
       "      <td>35.20000</td>\n",
       "      <td>2,711.00000</td>\n",
       "      <td>954.00000</td>\n",
       "      <td>NaN</td>\n",
       "      <td>NaN</td>\n",
       "      <td>nan</td>\n",
       "      <td>40.83261</td>\n",
       "      <td>-73.87908</td>\n",
       "      <td>nan</td>\n",
       "      <td>nan</td>\n",
       "    </tr>\n",
       "  </tbody>\n",
       "</table>\n",
       "</div>"
      ],
      "text/plain": [
       "   Percent  Population    Affected County        BlockCode      Pop      Lat      Long  sw  ne\n",
       "0 37.80000 5,810.00000 2,196.00000  Bronx  360050051002009 12.00000 40.81331 -73.92738 nan nan\n",
       "1 37.00000 2,031.00000 751.00000    NaN    NaN             nan      40.82564 -73.88244 nan nan\n",
       "2 38.30000 4,669.00000 1,788.00000  NaN    NaN             nan      40.85221 -73.92178 nan nan\n",
       "3 34.10000 5,853.00000 1,996.00000  NaN    NaN             nan      40.82989 -73.87978 nan nan\n",
       "4 35.20000 2,711.00000 954.00000    NaN    NaN             nan      40.83261 -73.87908 nan nan"
      ]
     },
     "execution_count": 75,
     "metadata": {},
     "output_type": "execute_result"
    }
   ],
   "source": [
    "odf = odf.reset_index(drop=True)\n",
    "pd.options.display.float_format = '{:,.5f}'.format\n",
    "odf.loc[:,'sw'] = np.NaN\n",
    "odf.loc[:,'ne'] = np.NaN\n",
    "odf.head()"
   ]
  },
  {
   "cell_type": "code",
   "execution_count": 57,
   "metadata": {},
   "outputs": [
    {
     "data": {
      "text/plain": [
       "('Bronx', '360050051002009', [-73.928542, 40.811725, -73.926715, 40.813589])"
      ]
     },
     "execution_count": 57,
     "metadata": {},
     "output_type": "execute_result"
    }
   ],
   "source": [
    "res"
   ]
  },
  {
   "cell_type": "markdown",
   "metadata": {},
   "source": [
    "Now, we are going to use the FCC's geocoding api to assign counties as well as block fips ids.  If there are any overlapping block fips we will merge them like with the Toronto homework."
   ]
  },
  {
   "cell_type": "code",
   "execution_count": 82,
   "metadata": {},
   "outputs": [
    {
     "name": "stderr",
     "output_type": "stream",
     "text": [
      "100%|█████████████████████████████████████████████████████████████████████████████████████████████████████████████████████████████| 2111/2111 [03:05<00:00, 11.38it/s]\n"
     ]
    },
    {
     "data": {
      "text/html": [
       "<div>\n",
       "<style scoped>\n",
       "    .dataframe tbody tr th:only-of-type {\n",
       "        vertical-align: middle;\n",
       "    }\n",
       "\n",
       "    .dataframe tbody tr th {\n",
       "        vertical-align: top;\n",
       "    }\n",
       "\n",
       "    .dataframe thead th {\n",
       "        text-align: right;\n",
       "    }\n",
       "</style>\n",
       "<table border=\"1\" class=\"dataframe\">\n",
       "  <thead>\n",
       "    <tr style=\"text-align: right;\">\n",
       "      <th></th>\n",
       "      <th>Percent</th>\n",
       "      <th>Population</th>\n",
       "      <th>Affected</th>\n",
       "      <th>County</th>\n",
       "      <th>BlockCode</th>\n",
       "      <th>Pop</th>\n",
       "      <th>Lat</th>\n",
       "      <th>Long</th>\n",
       "      <th>sw</th>\n",
       "      <th>ne</th>\n",
       "    </tr>\n",
       "  </thead>\n",
       "  <tbody>\n",
       "    <tr>\n",
       "      <th>0</th>\n",
       "      <td>37.80000</td>\n",
       "      <td>5,810.00000</td>\n",
       "      <td>2,196.00000</td>\n",
       "      <td>Bronx</td>\n",
       "      <td>360050051002009</td>\n",
       "      <td>12.00000</td>\n",
       "      <td>40.81331</td>\n",
       "      <td>-73.92738</td>\n",
       "      <td>-73.928542,40.811725</td>\n",
       "      <td>-73.926715,40.813589</td>\n",
       "    </tr>\n",
       "    <tr>\n",
       "      <th>1</th>\n",
       "      <td>37.00000</td>\n",
       "      <td>2,031.00000</td>\n",
       "      <td>751.00000</td>\n",
       "      <td>Bronx</td>\n",
       "      <td>360050052001001</td>\n",
       "      <td>5.00000</td>\n",
       "      <td>40.82564</td>\n",
       "      <td>-73.88244</td>\n",
       "      <td>-73.883552,40.825398</td>\n",
       "      <td>-73.882275,40.828304</td>\n",
       "    </tr>\n",
       "    <tr>\n",
       "      <th>2</th>\n",
       "      <td>38.30000</td>\n",
       "      <td>4,669.00000</td>\n",
       "      <td>1,788.00000</td>\n",
       "      <td>Bronx</td>\n",
       "      <td>360050053001000</td>\n",
       "      <td>2,023.00000</td>\n",
       "      <td>40.85221</td>\n",
       "      <td>-73.92178</td>\n",
       "      <td>-73.923904,40.850341</td>\n",
       "      <td>-73.921334,40.85254</td>\n",
       "    </tr>\n",
       "    <tr>\n",
       "      <th>3</th>\n",
       "      <td>34.10000</td>\n",
       "      <td>5,853.00000</td>\n",
       "      <td>1,996.00000</td>\n",
       "      <td>Bronx</td>\n",
       "      <td>360050054002001</td>\n",
       "      <td>985.00000</td>\n",
       "      <td>40.82989</td>\n",
       "      <td>-73.87978</td>\n",
       "      <td>-73.880699,40.828511</td>\n",
       "      <td>-73.879171,40.831139</td>\n",
       "    </tr>\n",
       "    <tr>\n",
       "      <th>4</th>\n",
       "      <td>35.20000</td>\n",
       "      <td>2,711.00000</td>\n",
       "      <td>954.00000</td>\n",
       "      <td>Bronx</td>\n",
       "      <td>360050056001001</td>\n",
       "      <td>18.00000</td>\n",
       "      <td>40.83261</td>\n",
       "      <td>-73.87908</td>\n",
       "      <td>-73.879368,40.831265</td>\n",
       "      <td>-73.876993,40.83376</td>\n",
       "    </tr>\n",
       "  </tbody>\n",
       "</table>\n",
       "</div>"
      ],
      "text/plain": [
       "   Percent  Population    Affected County        BlockCode         Pop      Lat      Long                    sw                    ne\n",
       "0 37.80000 5,810.00000 2,196.00000  Bronx  360050051002009 12.00000    40.81331 -73.92738  -73.928542,40.811725  -73.926715,40.813589\n",
       "1 37.00000 2,031.00000 751.00000    Bronx  360050052001001 5.00000     40.82564 -73.88244  -73.883552,40.825398  -73.882275,40.828304\n",
       "2 38.30000 4,669.00000 1,788.00000  Bronx  360050053001000 2,023.00000 40.85221 -73.92178  -73.923904,40.850341  -73.921334,40.85254 \n",
       "3 34.10000 5,853.00000 1,996.00000  Bronx  360050054002001 985.00000   40.82989 -73.87978  -73.880699,40.828511  -73.879171,40.831139\n",
       "4 35.20000 2,711.00000 954.00000    Bronx  360050056001001 18.00000    40.83261 -73.87908  -73.879368,40.831265  -73.876993,40.83376 "
      ]
     },
     "execution_count": 82,
     "metadata": {},
     "output_type": "execute_result"
    }
   ],
   "source": [
    "import requests\n",
    "def getLocation(lat,long):\n",
    "    try:\n",
    "        res = requests.get(\"https://geo.fcc.gov/api/census/area?lat={}&lon={}&format=json\".format(lat,long))\n",
    "        res = res.json()['results'][0]\n",
    "        block = res['block_fips']\n",
    "        county = res['county_name']\n",
    "        bbox = res['bbox']\n",
    "        pop = res['block_pop_2015']\n",
    "        sw = \",\".join([str(e) for e in bbox[:2]])\n",
    "        ne = \",\".join([str(e) for e in bbox[2:]])\n",
    "        return county, block, bbox, pop, sw, ne\n",
    "    except:\n",
    "        return\n",
    "\n",
    "\n",
    "bboxes = []\n",
    "errors = 0\n",
    "for i in tqdm.tqdm(range(odf.shape[0])):\n",
    "    lat = odf.iloc[i,6]\n",
    "    long = odf.iloc[i,7]\n",
    "    res = getLocation(lat, long)\n",
    "    if res:\n",
    "        odf.iloc[i,3] = res[0]\n",
    "        odf.iloc[i,4] = res[1]\n",
    "        odf.iloc[i,5] = res[3]\n",
    "        odf.iloc[i,8] = res[4]\n",
    "        odf.iloc[i,9] = res[5]\n",
    "        bboxes.append(res[2])\n",
    "    else:\n",
    "        errors += 1\n",
    "        \n",
    "odf.head()"
   ]
  },
  {
   "cell_type": "code",
   "execution_count": 83,
   "metadata": {},
   "outputs": [
    {
     "name": "stdout",
     "output_type": "stream",
     "text": [
      "How many duplicate block codes are there? Let's see: 2111/21110\n"
     ]
    }
   ],
   "source": [
    "print(\"How many duplicate block codes are there? Let's see: {}/{}\".format(odf.size-odf.groupby('BlockCode').agg(\"count\").size,odf.size))"
   ]
  },
  {
   "cell_type": "markdown",
   "metadata": {},
   "source": [
    "Since there seems to be little correlation between population from the cdc data and \"block\" level population, I believe it is a mistake to use this data.  Let's go ahead and drop it.  This was an unfortunate path to waste time on.  At least we can keep the county codes."
   ]
  },
  {
   "cell_type": "code",
   "execution_count": 85,
   "metadata": {},
   "outputs": [
    {
     "data": {
      "text/html": [
       "<div>\n",
       "<style scoped>\n",
       "    .dataframe tbody tr th:only-of-type {\n",
       "        vertical-align: middle;\n",
       "    }\n",
       "\n",
       "    .dataframe tbody tr th {\n",
       "        vertical-align: top;\n",
       "    }\n",
       "\n",
       "    .dataframe thead th {\n",
       "        text-align: right;\n",
       "    }\n",
       "</style>\n",
       "<table border=\"1\" class=\"dataframe\">\n",
       "  <thead>\n",
       "    <tr style=\"text-align: right;\">\n",
       "      <th></th>\n",
       "      <th>Percent</th>\n",
       "      <th>Population</th>\n",
       "      <th>Affected</th>\n",
       "      <th>County</th>\n",
       "      <th>Lat</th>\n",
       "      <th>Long</th>\n",
       "    </tr>\n",
       "  </thead>\n",
       "  <tbody>\n",
       "    <tr>\n",
       "      <th>0</th>\n",
       "      <td>37.80000</td>\n",
       "      <td>5,810.00000</td>\n",
       "      <td>2,196.00000</td>\n",
       "      <td>Bronx</td>\n",
       "      <td>40.81331</td>\n",
       "      <td>-73.92738</td>\n",
       "    </tr>\n",
       "    <tr>\n",
       "      <th>1</th>\n",
       "      <td>37.00000</td>\n",
       "      <td>2,031.00000</td>\n",
       "      <td>751.00000</td>\n",
       "      <td>Bronx</td>\n",
       "      <td>40.82564</td>\n",
       "      <td>-73.88244</td>\n",
       "    </tr>\n",
       "    <tr>\n",
       "      <th>2</th>\n",
       "      <td>38.30000</td>\n",
       "      <td>4,669.00000</td>\n",
       "      <td>1,788.00000</td>\n",
       "      <td>Bronx</td>\n",
       "      <td>40.85221</td>\n",
       "      <td>-73.92178</td>\n",
       "    </tr>\n",
       "    <tr>\n",
       "      <th>3</th>\n",
       "      <td>34.10000</td>\n",
       "      <td>5,853.00000</td>\n",
       "      <td>1,996.00000</td>\n",
       "      <td>Bronx</td>\n",
       "      <td>40.82989</td>\n",
       "      <td>-73.87978</td>\n",
       "    </tr>\n",
       "    <tr>\n",
       "      <th>4</th>\n",
       "      <td>35.20000</td>\n",
       "      <td>2,711.00000</td>\n",
       "      <td>954.00000</td>\n",
       "      <td>Bronx</td>\n",
       "      <td>40.83261</td>\n",
       "      <td>-73.87908</td>\n",
       "    </tr>\n",
       "  </tbody>\n",
       "</table>\n",
       "</div>"
      ],
      "text/plain": [
       "   Percent  Population    Affected County      Lat      Long\n",
       "0 37.80000 5,810.00000 2,196.00000  Bronx 40.81331 -73.92738\n",
       "1 37.00000 2,031.00000 751.00000    Bronx 40.82564 -73.88244\n",
       "2 38.30000 4,669.00000 1,788.00000  Bronx 40.85221 -73.92178\n",
       "3 34.10000 5,853.00000 1,996.00000  Bronx 40.82989 -73.87978\n",
       "4 35.20000 2,711.00000 954.00000    Bronx 40.83261 -73.87908"
      ]
     },
     "execution_count": 85,
     "metadata": {},
     "output_type": "execute_result"
    }
   ],
   "source": [
    "df = odf.drop(columns=['BlockCode','Pop','sw','ne'])\n",
    "df.head()"
   ]
  },
  {
   "cell_type": "markdown",
   "metadata": {},
   "source": [
    "Instead of using that data, we will use a radial search around the areas of interest.  Now, finally, we can move on to the restaurant data.  Let's save this data first, so we can come back to it without all of that work in the future."
   ]
  },
  {
   "cell_type": "code",
   "execution_count": 86,
   "metadata": {},
   "outputs": [],
   "source": [
    "df.to_csv('fat_neighborhoods')"
   ]
  },
  {
   "cell_type": "code",
   "execution_count": 9,
   "metadata": {},
   "outputs": [
    {
     "data": {
      "text/html": [
       "<div>\n",
       "<style scoped>\n",
       "    .dataframe tbody tr th:only-of-type {\n",
       "        vertical-align: middle;\n",
       "    }\n",
       "\n",
       "    .dataframe tbody tr th {\n",
       "        vertical-align: top;\n",
       "    }\n",
       "\n",
       "    .dataframe thead th {\n",
       "        text-align: right;\n",
       "    }\n",
       "</style>\n",
       "<table border=\"1\" class=\"dataframe\">\n",
       "  <thead>\n",
       "    <tr style=\"text-align: right;\">\n",
       "      <th></th>\n",
       "      <th>Percent</th>\n",
       "      <th>Population</th>\n",
       "      <th>Affected</th>\n",
       "      <th>County</th>\n",
       "      <th>Lat</th>\n",
       "      <th>Long</th>\n",
       "      <th>Restaurants</th>\n",
       "    </tr>\n",
       "  </thead>\n",
       "  <tbody>\n",
       "    <tr>\n",
       "      <th>0</th>\n",
       "      <td>37.8</td>\n",
       "      <td>5810.0</td>\n",
       "      <td>2196.0</td>\n",
       "      <td>Bronx</td>\n",
       "      <td>40.813308</td>\n",
       "      <td>-73.927382</td>\n",
       "      <td>0</td>\n",
       "    </tr>\n",
       "    <tr>\n",
       "      <th>1</th>\n",
       "      <td>37.0</td>\n",
       "      <td>2031.0</td>\n",
       "      <td>751.0</td>\n",
       "      <td>Bronx</td>\n",
       "      <td>40.825642</td>\n",
       "      <td>-73.882436</td>\n",
       "      <td>0</td>\n",
       "    </tr>\n",
       "    <tr>\n",
       "      <th>2</th>\n",
       "      <td>38.3</td>\n",
       "      <td>4669.0</td>\n",
       "      <td>1788.0</td>\n",
       "      <td>Bronx</td>\n",
       "      <td>40.852212</td>\n",
       "      <td>-73.921778</td>\n",
       "      <td>0</td>\n",
       "    </tr>\n",
       "    <tr>\n",
       "      <th>3</th>\n",
       "      <td>34.1</td>\n",
       "      <td>5853.0</td>\n",
       "      <td>1996.0</td>\n",
       "      <td>Bronx</td>\n",
       "      <td>40.829888</td>\n",
       "      <td>-73.879781</td>\n",
       "      <td>0</td>\n",
       "    </tr>\n",
       "    <tr>\n",
       "      <th>4</th>\n",
       "      <td>35.2</td>\n",
       "      <td>2711.0</td>\n",
       "      <td>954.0</td>\n",
       "      <td>Bronx</td>\n",
       "      <td>40.832612</td>\n",
       "      <td>-73.879076</td>\n",
       "      <td>0</td>\n",
       "    </tr>\n",
       "  </tbody>\n",
       "</table>\n",
       "</div>"
      ],
      "text/plain": [
       "   Percent  Population  Affected County        Lat       Long  Restaurants\n",
       "0     37.8      5810.0    2196.0  Bronx  40.813308 -73.927382            0\n",
       "1     37.0      2031.0     751.0  Bronx  40.825642 -73.882436            0\n",
       "2     38.3      4669.0    1788.0  Bronx  40.852212 -73.921778            0\n",
       "3     34.1      5853.0    1996.0  Bronx  40.829888 -73.879781            0\n",
       "4     35.2      2711.0     954.0  Bronx  40.832612 -73.879076            0"
      ]
     },
     "execution_count": 9,
     "metadata": {},
     "output_type": "execute_result"
    }
   ],
   "source": [
    "import pandas as pd\n",
    "import numpy as np\n",
    "import requests, tqdm, os\n",
    "fs_id, fs_secret = os.environ['FOURSQUARE_ID'], os.environ['FOURSQUARE_SECRET']\n",
    "\n",
    "df = pd.read_csv('fat_neighborhoods',index_col=0)\n",
    "df['Restaurants'] = 0\n",
    "df.head()"
   ]
  },
  {
   "cell_type": "code",
   "execution_count": null,
   "metadata": {},
   "outputs": [
    {
     "name": "stderr",
     "output_type": "stream",
     "text": [
      "\n",
      "  0%|                                                                                                                                        | 0/2111 [00:00<?, ?it/s]\n",
      "  0%|                                                                                                                                | 1/2111 [00:00<08:47,  4.00it/s]\n",
      "  0%|                                                                                                                                | 2/2111 [00:00<08:11,  4.29it/s]\n",
      "  0%|▏                                                                                                                               | 3/2111 [00:00<07:30,  4.68it/s]\n",
      "  0%|▏                                                                                                                               | 4/2111 [00:00<08:08,  4.31it/s]\n",
      "  0%|▎                                                                                                                               | 5/2111 [00:01<08:10,  4.30it/s]\n",
      "  0%|▎                                                                                                                               | 6/2111 [00:01<08:20,  4.21it/s]\n",
      "  0%|▍                                                                                                                               | 7/2111 [00:01<08:04,  4.34it/s]\n",
      "  0%|▍                                                                                                                               | 8/2111 [00:01<08:06,  4.32it/s]\n",
      "  0%|▌                                                                                                                               | 9/2111 [00:02<09:06,  3.85it/s]\n",
      "  0%|▌                                                                                                                              | 10/2111 [00:02<09:00,  3.89it/s]\n",
      "  1%|▋                                                                                                                              | 11/2111 [00:02<08:47,  3.98it/s]\n",
      "  1%|▋                                                                                                                              | 12/2111 [00:03<09:42,  3.60it/s]\n",
      "  1%|▊                                                                                                                              | 13/2111 [00:03<09:32,  3.66it/s]\n",
      "  1%|▊                                                                                                                              | 14/2111 [00:03<09:20,  3.74it/s]\n",
      "  1%|▉                                                                                                                              | 15/2111 [00:04<09:22,  3.72it/s]\n",
      "  1%|▉                                                                                                                              | 16/2111 [00:04<09:24,  3.71it/s]\n",
      "  1%|█                                                                                                                              | 17/2111 [00:04<09:22,  3.72it/s]\n",
      "  1%|█                                                                                                                              | 18/2111 [00:04<09:20,  3.74it/s]\n",
      "  1%|█▏                                                                                                                             | 19/2111 [00:05<09:48,  3.55it/s]\n",
      "  1%|█▏                                                                                                                             | 20/2111 [00:05<09:38,  3.61it/s]\n",
      "  1%|█▎                                                                                                                             | 21/2111 [00:05<09:38,  3.61it/s]\n",
      "  1%|█▎                                                                                                                             | 22/2111 [00:06<09:42,  3.59it/s]\n",
      "  1%|█▍                                                                                                                             | 23/2111 [00:06<09:33,  3.64it/s]\n",
      "  1%|█▍                                                                                                                             | 24/2111 [00:06<09:29,  3.66it/s]\n",
      "  1%|█▌                                                                                                                             | 25/2111 [00:06<09:34,  3.63it/s]\n",
      "  1%|█▌                                                                                                                             | 26/2111 [00:07<09:29,  3.66it/s]\n",
      "  1%|█▌                                                                                                                             | 27/2111 [00:07<09:20,  3.72it/s]\n",
      "  1%|█▋                                                                                                                             | 28/2111 [00:07<09:23,  3.70it/s]\n",
      "  1%|█▋                                                                                                                             | 29/2111 [00:07<09:21,  3.71it/s]\n",
      "  1%|█▊                                                                                                                             | 30/2111 [00:08<09:18,  3.73it/s]\n",
      "  1%|█▊                                                                                                                             | 31/2111 [00:08<09:13,  3.76it/s]\n",
      "  2%|█▉                                                                                                                             | 32/2111 [00:08<09:06,  3.80it/s]\n",
      "  2%|█▉                                                                                                                             | 33/2111 [00:09<09:28,  3.66it/s]\n",
      "  2%|██                                                                                                                             | 34/2111 [00:09<09:20,  3.70it/s]\n",
      "  2%|██                                                                                                                             | 35/2111 [00:09<09:20,  3.70it/s]\n",
      "  2%|██▏                                                                                                                            | 36/2111 [00:09<09:17,  3.72it/s]\n",
      "  2%|██▏                                                                                                                            | 37/2111 [00:09<09:10,  3.77it/s]\n",
      "  2%|██▎                                                                                                                            | 38/2111 [00:10<09:10,  3.77it/s]"
     ]
    }
   ],
   "source": [
    "LIMIT = 50\n",
    "FOOD = \"4d4b7105d754a06374d81259\"\n",
    "VERSION = '20201231'\n",
    "\n",
    "\n",
    "def getNearbyRestaurants(lat,lng, radius=500):\n",
    "    # create the API request URL\n",
    "    url = 'https://api.foursquare.com/v2/venues/explore?categoryId={}&client_id={}&client_secret={}&v={}&ll={},{}&radius={}&limit={}'.format(\n",
    "        FOOD,\n",
    "        fs_id, \n",
    "        fs_secret, \n",
    "        VERSION, \n",
    "        lat, \n",
    "        lng, \n",
    "        radius, \n",
    "        LIMIT)  \n",
    "    # make the GET request\n",
    "    try:\n",
    "        results = requests.get(url).json()[\"response\"]['groups'][0]['items']\n",
    "        # return only relevant information for each nearby venue\n",
    "        return [v['venue']['categories'][0]['name'] for v in results]\n",
    "    except:\n",
    "        return []\n",
    "\n",
    "restaurant_types = []\n",
    "for i in tqdm.tqdm(range(df.shape[0])):\n",
    "    row = df.iloc[i]\n",
    "    Percent, Population, Affected, County, Lat, Long, nRests = row\n",
    "    restaurants = getNearbyRestaurants(Lat,Long)\n",
    "    df.iloc[i,6] = len(restaurants)\n",
    "    restaurant_types.append(restaurants)\n",
    "\n"
   ]
  },
  {
   "cell_type": "code",
   "execution_count": null,
   "metadata": {
    "collapsed": true
   },
   "outputs": [],
   "source": [
    "def getVenuesByQuery(ll,term):\n",
    "    query = \"https://api.foursquare.com/v2/venues/explore?client_id={}&client_secret={}&ll={}&query={}&v={}\".format(\n",
    "        fs_id,fs_secret,ll,term, version)\n",
    "    return requests.get(query).json()\n",
    "\n",
    "def getPremiumVenueDetails(venue_id):\n",
    "    query = \"https://api.foursquare.com/v2/venues/{}?client_id={}&client_secret={}&v={}\".format(\n",
    "        venue_id,fs_id,fs_secret,version)\n",
    "    return requests.get(query).json()\n",
    "\n",
    "def exploreVenues(ll):\n",
    "    query = \"https://api.foursquare.com/v2/venues/explore?client_id={}&client_secret={}&ll={}&v={}\".format(\n",
    "        fs_id,fs_secret,ll,version)\n",
    "    return requests.get(query).json()\n",
    "\n",
    "def trendingVenues(ll):\n",
    "    query = \"https://api.foursquare.com/v2/venues/trending?client_id={}&client_secret={}&ll={}&v={}\".format(\n",
    "        fs_id,fs_secret,ll,version)\n",
    "    return requests.get(query).json()"
   ]
  }
 ],
 "metadata": {
  "kernelspec": {
   "display_name": "Python 3",
   "language": "python",
   "name": "python3"
  },
  "language_info": {
   "codemirror_mode": {
    "name": "ipython",
    "version": 3
   },
   "file_extension": ".py",
   "mimetype": "text/x-python",
   "name": "python",
   "nbconvert_exporter": "python",
   "pygments_lexer": "ipython3",
   "version": "3.6.3"
  }
 },
 "nbformat": 4,
 "nbformat_minor": 2
}
