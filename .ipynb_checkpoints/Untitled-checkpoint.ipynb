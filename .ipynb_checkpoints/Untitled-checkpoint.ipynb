{
 "cells": [
  {
   "cell_type": "code",
   "execution_count": null,
   "metadata": {
    "collapsed": true
   },
   "outputs": [],
   "source": []
  },
  {
   "cell_type": "code",
   "execution_count": null,
   "metadata": {
    "collapsed": true
   },
   "outputs": [],
   "source": []
  },
  {
   "cell_type": "code",
   "execution_count": null,
   "metadata": {
    "collapsed": true
   },
   "outputs": [],
   "source": []
  },
  {
   "cell_type": "code",
   "execution_count": null,
   "metadata": {
    "collapsed": true
   },
   "outputs": [],
   "source": [
    "def getVenuesByQuery(ll,term):\n",
    "    query = \"https://api.foursquare.com/v2/venues/explore?client_id={}&client_secret={}&ll={}&query={}&v={}\".format(\n",
    "        fs_id,fs_secret,ll,term, version)\n",
    "    return requests.get(query).json()\n",
    "\n",
    "def getPremiumVenueDetails(venue_id):\n",
    "    query = \"https://api.foursquare.com/v2/venues/{}?client_id={}&client_secret={}&v={}\".format(\n",
    "        venue_id,fs_id,fs_secret,version)\n",
    "    return requests.get(query).json()\n",
    "\n",
    "def exploreVenues(ll):\n",
    "    query = \"https://api.foursquare.com/v2/venues/explore?client_id={}&client_secret={}&ll={}&v={}\".format(\n",
    "        fs_id,fs_secret,ll,version)\n",
    "    return requests.get(query).json()\n",
    "\n",
    "def trendingVenues(ll):\n",
    "    query = \"https://api.foursquare.com/v2/venues/trending?client_id={}&client_secret={}&ll={}&v={}\".format(\n",
    "        fs_id,fs_secret,ll,version)\n",
    "    return requests.get(query).json()"
   ]
  }
 ],
 "metadata": {
  "kernelspec": {
   "display_name": "Python 3",
   "language": "python",
   "name": "python3"
  },
  "language_info": {
   "codemirror_mode": {
    "name": "ipython",
    "version": 3
   },
   "file_extension": ".py",
   "mimetype": "text/x-python",
   "name": "python",
   "nbconvert_exporter": "python",
   "pygments_lexer": "ipython3",
   "version": "3.6.3"
  }
 },
 "nbformat": 4,
 "nbformat_minor": 2
}
